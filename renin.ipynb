{
 "cells": [
  {
   "cell_type": "code",
   "execution_count": 48,
   "metadata": {},
   "outputs": [],
   "source": [
    "from pyspark.sql import SparkSession"
   ]
  },
  {
   "cell_type": "code",
   "execution_count": 49,
   "metadata": {},
   "outputs": [],
   "source": [
    "spark = SparkSession.builder.appName('cruise').getOrCreate()"
   ]
  },
  {
   "cell_type": "code",
   "execution_count": 50,
   "metadata": {},
   "outputs": [],
   "source": [
    "df = spark.read.csv('/home/aravind/Downloads/newchanged.csv',inferSchema=True,header=True)"
   ]
  },
  {
   "cell_type": "code",
   "execution_count": 51,
   "metadata": {},
   "outputs": [
    {
     "name": "stdout",
     "output_type": "stream",
     "text": [
      "+-----+------+-------+\n",
      "|users|places|ratings|\n",
      "+-----+------+-------+\n",
      "|    1|     0|   0.93|\n",
      "|    1|     1|    1.8|\n",
      "|    1|     2|   2.29|\n",
      "|    1|     3|   0.62|\n",
      "|    1|     4|    0.8|\n",
      "|    1|     5|   2.42|\n",
      "|    1|     6|   3.19|\n",
      "|    1|     7|   2.79|\n",
      "|    1|     8|   1.82|\n",
      "|    1|     9|   2.42|\n",
      "|    2|     0|   1.02|\n",
      "|    2|     1|    2.2|\n",
      "|    2|     2|   2.66|\n",
      "|    2|     3|   0.64|\n",
      "|    2|     4|   1.42|\n",
      "|    2|     5|   3.18|\n",
      "|    2|     6|   3.21|\n",
      "|    2|     7|   2.63|\n",
      "|    2|     8|   1.86|\n",
      "|    2|     9|   2.32|\n",
      "+-----+------+-------+\n",
      "only showing top 20 rows\n",
      "\n"
     ]
    }
   ],
   "source": [
    "df.show()"
   ]
  },
  {
   "cell_type": "code",
   "execution_count": 52,
   "metadata": {},
   "outputs": [],
   "source": [
    "from pyspark.ml.recommendation import ALS"
   ]
  },
  {
   "cell_type": "code",
   "execution_count": 53,
   "metadata": {},
   "outputs": [],
   "source": [
    "from pyspark.ml.evaluation import RegressionEvaluator "
   ]
  },
  {
   "cell_type": "code",
   "execution_count": 54,
   "metadata": {},
   "outputs": [
    {
     "name": "stdout",
     "output_type": "stream",
     "text": [
      "+-------+-----------------+-----------------+------------------+\n",
      "|summary|            users|           places|           ratings|\n",
      "+-------+-----------------+-----------------+------------------+\n",
      "|  count|             9800|             9800|              9800|\n",
      "|   mean|            490.5|              4.5| 1.695890816326541|\n",
      "| stddev|282.9159194735791|2.872427879450618|0.9840713958919984|\n",
      "|    min|                1|                0|               0.0|\n",
      "|    max|              980|                9|              3.76|\n",
      "+-------+-----------------+-----------------+------------------+\n",
      "\n"
     ]
    }
   ],
   "source": [
    "df.describe().show()"
   ]
  },
  {
   "cell_type": "code",
   "execution_count": 55,
   "metadata": {},
   "outputs": [],
   "source": [
    "Train_data, Test_data = df.randomSplit([0.8,0.2])"
   ]
  },
  {
   "cell_type": "code",
   "execution_count": 56,
   "metadata": {},
   "outputs": [
    {
     "name": "stdout",
     "output_type": "stream",
     "text": [
      "+-------+------------------+-----------------+------------------+\n",
      "|summary|             users|           places|           ratings|\n",
      "+-------+------------------+-----------------+------------------+\n",
      "|  count|              7831|             7831|              7831|\n",
      "|   mean|490.98288851998467|4.483335461626868|1.6894151449367931|\n",
      "| stddev| 282.8233868721279|2.857929643817219|0.9859576204345447|\n",
      "|    min|                 1|                0|               0.0|\n",
      "|    max|               980|                9|              3.66|\n",
      "+-------+------------------+-----------------+------------------+\n",
      "\n"
     ]
    }
   ],
   "source": [
    "Train_data.describe().show()"
   ]
  },
  {
   "cell_type": "code",
   "execution_count": 57,
   "metadata": {},
   "outputs": [
    {
     "name": "stdout",
     "output_type": "stream",
     "text": [
      "+-------+------------------+------------------+------------------+\n",
      "|summary|             users|            places|           ratings|\n",
      "+-------+------------------+------------------+------------------+\n",
      "|  count|              1969|              1969|              1969|\n",
      "|   mean|488.57948197054344| 4.566277298120873| 1.721645505332653|\n",
      "| stddev|283.34740323542746|2.9291776514436756|0.9763573698705665|\n",
      "|    min|                 1|                 0|              0.13|\n",
      "|    max|               980|                 9|              3.76|\n",
      "+-------+------------------+------------------+------------------+\n",
      "\n"
     ]
    }
   ],
   "source": [
    "Test_data.describe().show()"
   ]
  },
  {
   "cell_type": "code",
   "execution_count": 58,
   "metadata": {},
   "outputs": [],
   "source": [
    "als =ALS(maxIter=10,regParam=0.01,userCol='users',itemCol='places',ratingCol='ratings')"
   ]
  },
  {
   "cell_type": "code",
   "execution_count": 59,
   "metadata": {},
   "outputs": [],
   "source": [
    "model = als.fit(Train_data)"
   ]
  },
  {
   "cell_type": "code",
   "execution_count": 60,
   "metadata": {},
   "outputs": [],
   "source": [
    "prediction = model.transform(Test_data)"
   ]
  },
  {
   "cell_type": "code",
   "execution_count": 61,
   "metadata": {},
   "outputs": [
    {
     "name": "stdout",
     "output_type": "stream",
     "text": [
      "+-----+------+-------+----------+\n",
      "|users|places|ratings|prediction|\n",
      "+-----+------+-------+----------+\n",
      "|  858|     1|   1.64| 0.9154941|\n",
      "|   85|     1|   0.28|0.79905254|\n",
      "|   65|     1|   1.12| 0.9755691|\n",
      "|  458|     1|   1.04| 0.8589483|\n",
      "|   53|     1|   1.88|  0.966382|\n",
      "|  472|     1|   1.28|0.99111557|\n",
      "|  322|     1|    1.0|0.81166124|\n",
      "|  362|     1|    1.6|0.96153694|\n",
      "|  633|     1|    1.2| 0.8341851|\n",
      "|  673|     1|   0.68|0.70244807|\n",
      "|  961|     1|   1.24|0.88974833|\n",
      "|  876|     1|   1.32| 0.9265636|\n",
      "|  950|     1|   1.72|0.91778696|\n",
      "|  193|     1|   0.64|0.94685173|\n",
      "|  530|     1|   0.96| 0.8568044|\n",
      "|  756|     1|   1.28|  1.033205|\n",
      "|  847|     1|   1.24| 0.9708561|\n",
      "|  939|     1|   1.52| 0.9357635|\n",
      "|  183|     1|   1.48| 0.9150862|\n",
      "|  300|     1|   1.92| 0.8927729|\n",
      "+-----+------+-------+----------+\n",
      "only showing top 20 rows\n",
      "\n"
     ]
    }
   ],
   "source": [
    "prediction.show()"
   ]
  },
  {
   "cell_type": "code",
   "execution_count": 62,
   "metadata": {},
   "outputs": [],
   "source": [
    "evaluator = RegressionEvaluator(metricName='rmse',labelCol='ratings',predictionCol='prediction')"
   ]
  },
  {
   "cell_type": "code",
   "execution_count": 63,
   "metadata": {},
   "outputs": [],
   "source": [
    "rmse = evaluator.evaluate(prediction)"
   ]
  },
  {
   "cell_type": "code",
   "execution_count": 64,
   "metadata": {},
   "outputs": [
    {
     "name": "stdout",
     "output_type": "stream",
     "text": [
      "RMSE Value\n",
      "0.7116435718383631\n"
     ]
    }
   ],
   "source": [
    "print(\"RMSE Value\")\n",
    "print(rmse)"
   ]
  },
  {
   "cell_type": "code",
   "execution_count": 65,
   "metadata": {},
   "outputs": [],
   "source": [
    "single_user = Test_data.filter(Test_data['users']==11).select(['users','places'])"
   ]
  },
  {
   "cell_type": "code",
   "execution_count": 66,
   "metadata": {},
   "outputs": [
    {
     "name": "stdout",
     "output_type": "stream",
     "text": [
      "+-----+------+\n",
      "|users|places|\n",
      "+-----+------+\n",
      "|   11|     5|\n",
      "+-----+------+\n",
      "\n"
     ]
    }
   ],
   "source": [
    "single_user.show()"
   ]
  },
  {
   "cell_type": "code",
   "execution_count": 67,
   "metadata": {},
   "outputs": [],
   "source": [
    "recomendation = model.transform(single_user)"
   ]
  },
  {
   "cell_type": "code",
   "execution_count": 68,
   "metadata": {},
   "outputs": [
    {
     "name": "stdout",
     "output_type": "stream",
     "text": [
      "+-----+------+----------+\n",
      "|users|places|prediction|\n",
      "+-----+------+----------+\n",
      "|   11|     5| 1.2660258|\n",
      "+-----+------+----------+\n",
      "\n"
     ]
    }
   ],
   "source": [
    "recomendation.orderBy('prediction',ascending=False).show()"
   ]
  },
  {
   "cell_type": "code",
   "execution_count": null,
   "metadata": {},
   "outputs": [],
   "source": []
  },
  {
   "cell_type": "code",
   "execution_count": null,
   "metadata": {},
   "outputs": [],
   "source": []
  },
  {
   "cell_type": "code",
   "execution_count": null,
   "metadata": {},
   "outputs": [],
   "source": []
  }
 ],
 "metadata": {
  "kernelspec": {
   "display_name": "Python 3",
   "language": "python",
   "name": "python3"
  },
  "language_info": {
   "codemirror_mode": {
    "name": "ipython",
    "version": 3
   },
   "file_extension": ".py",
   "mimetype": "text/x-python",
   "name": "python",
   "nbconvert_exporter": "python",
   "pygments_lexer": "ipython3",
   "version": "3.6.5"
  }
 },
 "nbformat": 4,
 "nbformat_minor": 2
}
